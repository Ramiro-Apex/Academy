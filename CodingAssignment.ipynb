{
 "cells": [
  {
   "cell_type": "markdown",
   "id": "28a80ed5",
   "metadata": {},
   "source": [
    "Coding Assignment\n",
    "1.\tDownload video file (airshow.mp4) from https://www.dropbox.com/sh/782f7a0hmw3mn59/AADcJpRoFB0IIfi7-nR-7Eifa?dl=0.\n",
    "\n",
    "2.\tCut it up into 1-minute clips, save as .mov or .mp4 inside a folder named “video_clips”. (Depending on the method you use, it may not be exactly 1-min. Roughly 1-min is fine.) Please create folder programmatically with Python.\n",
    "\n",
    "3.\tThe names of each clip must include the starting frame count of the cut video. For example, the 1st clip may be named 0thFrame.mov, the 2nd clip may be named 1800thFrame.mov, etc. Depending on how you chop up the video, the frame with which you start the next clip may not be exactly 1800 frames after. That is fine as long as that is correctly reflected on the saved name of the clip.\n",
    "\n",
    "4.\tCreate table video_data in PostgresSQL database with the following columns:\n",
    "a.\tclip_name (name of the video clip created in section 2 above, excluding file extension);\n",
    "b.\tclip_file_extension (file extension of the video clip created in section 2 above);\n",
    "c.\tclip_duration (duration of the video clip created in section 2 above);\n",
    "d.\tclip_location (location of the video clip created in section 2 above. It can be local path to the project directory or the absolute path);\n",
    "e.\tinsert_timestamp (a timestamp when a record has been inserted into a table).\n",
    "You have the freedom to determine the field types. This video_data table must be created programmatically with Python. Don’t use any SQL tools to create this table.\n",
    "5.\tAfter creating video_data table insert all the records with information described in section 4 above. It should be 1 record per 1 generated clip.\n",
    "\n",
    "6.\tThe same records that have been inserted into the video_data table must be saved to a CSV file named generated_video_files under “report” folder. Please create folder programmatically with Python.\n",
    "\n",
    "Feel free to utilize any Python packages to solve this. \n",
    "Upload your code and a report (CSV file) from section 6 above to your Github account if possible and add the README.md file to the repository with instructions on how to setup the environment, run your code and any other notes you find important to mention. The repository does not have to contain the output video clips generated in section 2 above.\n"
   ]
  },
  {
   "cell_type": "code",
   "execution_count": 3,
   "id": "36a1663b",
   "metadata": {},
   "outputs": [
    {
     "name": "stdout",
     "output_type": "stream",
     "text": [
      "Requirement already satisfied: moviepy in c:\\users\\rgonzalez\\appdata\\local\\anaconda3\\lib\\site-packages (1.0.3)Note: you may need to restart the kernel to use updated packages.\n",
      "\n",
      "Requirement already satisfied: decorator<5.0,>=4.0.2 in c:\\users\\rgonzalez\\appdata\\local\\anaconda3\\lib\\site-packages (from moviepy) (4.4.2)\n",
      "Requirement already satisfied: tqdm<5.0,>=4.11.2 in c:\\users\\rgonzalez\\appdata\\local\\anaconda3\\lib\\site-packages (from moviepy) (4.65.0)\n",
      "Requirement already satisfied: requests<3.0,>=2.8.1 in c:\\users\\rgonzalez\\appdata\\local\\anaconda3\\lib\\site-packages (from moviepy) (2.29.0)\n",
      "Requirement already satisfied: proglog<=1.0.0 in c:\\users\\rgonzalez\\appdata\\local\\anaconda3\\lib\\site-packages (from moviepy) (0.1.10)\n",
      "Requirement already satisfied: numpy>=1.17.3 in c:\\users\\rgonzalez\\appdata\\local\\anaconda3\\lib\\site-packages (from moviepy) (1.24.3)\n",
      "Requirement already satisfied: imageio<3.0,>=2.5 in c:\\users\\rgonzalez\\appdata\\local\\anaconda3\\lib\\site-packages (from moviepy) (2.26.0)\n",
      "Requirement already satisfied: imageio-ffmpeg>=0.2.0 in c:\\users\\rgonzalez\\appdata\\local\\anaconda3\\lib\\site-packages (from moviepy) (0.4.8)\n",
      "Requirement already satisfied: pillow>=8.3.2 in c:\\users\\rgonzalez\\appdata\\local\\anaconda3\\lib\\site-packages (from imageio<3.0,>=2.5->moviepy) (9.4.0)\n",
      "Requirement already satisfied: charset-normalizer<4,>=2 in c:\\users\\rgonzalez\\appdata\\local\\anaconda3\\lib\\site-packages (from requests<3.0,>=2.8.1->moviepy) (2.0.4)\n",
      "Requirement already satisfied: idna<4,>=2.5 in c:\\users\\rgonzalez\\appdata\\local\\anaconda3\\lib\\site-packages (from requests<3.0,>=2.8.1->moviepy) (3.4)\n",
      "Requirement already satisfied: urllib3<1.27,>=1.21.1 in c:\\users\\rgonzalez\\appdata\\local\\anaconda3\\lib\\site-packages (from requests<3.0,>=2.8.1->moviepy) (1.26.16)\n",
      "Requirement already satisfied: certifi>=2017.4.17 in c:\\users\\rgonzalez\\appdata\\local\\anaconda3\\lib\\site-packages (from requests<3.0,>=2.8.1->moviepy) (2023.5.7)\n",
      "Requirement already satisfied: colorama in c:\\users\\rgonzalez\\appdata\\local\\anaconda3\\lib\\site-packages (from tqdm<5.0,>=4.11.2->moviepy) (0.4.6)\n"
     ]
    }
   ],
   "source": [
    "#Instalación de libreria de manipulación de videos\n",
    "pip install moviepy"
   ]
  },
  {
   "cell_type": "code",
   "execution_count": 8,
   "id": "d0c261a3",
   "metadata": {},
   "outputs": [],
   "source": [
    "# Crear la carpeta en la cual estarán los videos\n",
    "import os \n",
    "os.makedirs(\"video_clips\")"
   ]
  },
  {
   "cell_type": "code",
   "execution_count": 14,
   "id": "5714c88d",
   "metadata": {},
   "outputs": [
    {
     "name": "stdout",
     "output_type": "stream",
     "text": [
      "Moviepy - Building video video_clips\\0thFrame.mp4.\n",
      "MoviePy - Writing audio in 0thFrameTEMP_MPY_wvf_snd.mp3\n"
     ]
    },
    {
     "name": "stderr",
     "output_type": "stream",
     "text": [
      "                                                                                                                       \r"
     ]
    },
    {
     "name": "stdout",
     "output_type": "stream",
     "text": [
      "MoviePy - Done.\n",
      "Moviepy - Writing video video_clips\\0thFrame.mp4\n",
      "\n"
     ]
    },
    {
     "name": "stderr",
     "output_type": "stream",
     "text": [
      "                                                                                                                       \r"
     ]
    },
    {
     "name": "stdout",
     "output_type": "stream",
     "text": [
      "Moviepy - Done !\n",
      "Moviepy - video ready video_clips\\0thFrame.mp4\n",
      "Moviepy - Building video video_clips\\1798thFrame.mp4.\n",
      "MoviePy - Writing audio in 1798thFrameTEMP_MPY_wvf_snd.mp3\n"
     ]
    },
    {
     "name": "stderr",
     "output_type": "stream",
     "text": [
      "                                                                                                                       \r"
     ]
    },
    {
     "name": "stdout",
     "output_type": "stream",
     "text": [
      "MoviePy - Done.\n",
      "Moviepy - Writing video video_clips\\1798thFrame.mp4\n",
      "\n"
     ]
    },
    {
     "name": "stderr",
     "output_type": "stream",
     "text": [
      "                                                                                                                       \r"
     ]
    },
    {
     "name": "stdout",
     "output_type": "stream",
     "text": [
      "Moviepy - Done !\n",
      "Moviepy - video ready video_clips\\1798thFrame.mp4\n",
      "Moviepy - Building video video_clips\\3596thFrame.mp4.\n",
      "MoviePy - Writing audio in 3596thFrameTEMP_MPY_wvf_snd.mp3\n"
     ]
    },
    {
     "name": "stderr",
     "output_type": "stream",
     "text": [
      "                                                                                                                       \r"
     ]
    },
    {
     "name": "stdout",
     "output_type": "stream",
     "text": [
      "MoviePy - Done.\n",
      "Moviepy - Writing video video_clips\\3596thFrame.mp4\n",
      "\n"
     ]
    },
    {
     "name": "stderr",
     "output_type": "stream",
     "text": [
      "                                                                                                                       \r"
     ]
    },
    {
     "name": "stdout",
     "output_type": "stream",
     "text": [
      "Moviepy - Done !\n",
      "Moviepy - video ready video_clips\\3596thFrame.mp4\n",
      "Moviepy - Building video video_clips\\5394thFrame.mp4.\n",
      "MoviePy - Writing audio in 5394thFrameTEMP_MPY_wvf_snd.mp3\n"
     ]
    },
    {
     "name": "stderr",
     "output_type": "stream",
     "text": [
      "                                                                                                                       \r"
     ]
    },
    {
     "name": "stdout",
     "output_type": "stream",
     "text": [
      "MoviePy - Done.\n",
      "Moviepy - Writing video video_clips\\5394thFrame.mp4\n",
      "\n"
     ]
    },
    {
     "name": "stderr",
     "output_type": "stream",
     "text": [
      "                                                                                                                       \r"
     ]
    },
    {
     "name": "stdout",
     "output_type": "stream",
     "text": [
      "Moviepy - Done !\n",
      "Moviepy - video ready video_clips\\5394thFrame.mp4\n",
      "Moviepy - Building video video_clips\\7192thFrame.mp4.\n",
      "MoviePy - Writing audio in 7192thFrameTEMP_MPY_wvf_snd.mp3\n"
     ]
    },
    {
     "name": "stderr",
     "output_type": "stream",
     "text": [
      "                                                                                                                       \r"
     ]
    },
    {
     "name": "stdout",
     "output_type": "stream",
     "text": [
      "MoviePy - Done.\n",
      "Moviepy - Writing video video_clips\\7192thFrame.mp4\n",
      "\n"
     ]
    },
    {
     "name": "stderr",
     "output_type": "stream",
     "text": [
      "                                                                                                                       \r"
     ]
    },
    {
     "name": "stdout",
     "output_type": "stream",
     "text": [
      "Moviepy - Done !\n",
      "Moviepy - video ready video_clips\\7192thFrame.mp4\n",
      "Moviepy - Building video video_clips\\8991thFrame.mp4.\n",
      "MoviePy - Writing audio in 8991thFrameTEMP_MPY_wvf_snd.mp3\n"
     ]
    },
    {
     "name": "stderr",
     "output_type": "stream",
     "text": [
      "                                                                                                                       \r"
     ]
    },
    {
     "name": "stdout",
     "output_type": "stream",
     "text": [
      "MoviePy - Done.\n",
      "Moviepy - Writing video video_clips\\8991thFrame.mp4\n",
      "\n"
     ]
    },
    {
     "name": "stderr",
     "output_type": "stream",
     "text": [
      "                                                                                                                       \r"
     ]
    },
    {
     "name": "stdout",
     "output_type": "stream",
     "text": [
      "Moviepy - Done !\n",
      "Moviepy - video ready video_clips\\8991thFrame.mp4\n"
     ]
    }
   ],
   "source": [
    "from moviepy.editor import VideoFileClip\n",
    "\n",
    "#Seleccionar el video\n",
    "video = VideoFileClip(\"airshow.mp4\") \n",
    "\n",
    "duration = video.duration \n",
    "\n",
    "#Sacar los frames por segundo para hacer calculos\n",
    "frame_rate = video.fps \n",
    "\n",
    "for i in range(0, int(duration), 60): \n",
    "  start = i \n",
    "  end = min(i + 60, duration) \n",
    "    #Crear los cortes\n",
    "  clip = video.subclip(start, end) \n",
    "    #Calcular el frames de inicio\n",
    "  frame_count = int(start * frame_rate) \n",
    "    #Dar nombre al video nuevo\n",
    "  file_name = f\"{frame_count}thFrame.mp4\" \n",
    "  file_path = os.path.join(\"video_clips\", file_name)\n",
    "    #Escribir el video nuevo \n",
    "  clip.write_videofile(file_path) \n"
   ]
  },
  {
   "cell_type": "code",
   "execution_count": 3,
   "id": "d538d136",
   "metadata": {},
   "outputs": [
    {
     "data": {
      "text/plain": [
       "<sqlite3.Cursor at 0x16903c37440>"
      ]
     },
     "execution_count": 3,
     "metadata": {},
     "output_type": "execute_result"
    }
   ],
   "source": [
    "import sqlite3\n",
    "\n",
    "#Crear folder nuevo\n",
    "os.mkdir(\"report\")\n",
    "\n",
    "\n",
    "#Crear una conexión conn a la base de datos \"video.db\"\n",
    "conn = sqlite3.connect(\"video.db\")\n",
    "\n",
    "#Crear un cursor\n",
    "cur = conn.cursor()\n",
    "\n",
    "#Se crea la tabla (\"real\" es igual a float)\n",
    "cur.execute(\"\"\"\n",
    "    CREATE TABLE video_data (\n",
    "        clip_name TEXT,\n",
    "        clip_file_extension TEXT,\n",
    "        clip_duration REAL, \n",
    "        clip_location TEXT,\n",
    "        insert_timestamp DATETIME\n",
    "    )\n",
    "\"\"\")\n"
   ]
  },
  {
   "cell_type": "code",
   "execution_count": 15,
   "id": "b28dd0fb",
   "metadata": {},
   "outputs": [],
   "source": [
    "import datetime\n",
    "#Crear una lista nueva para almacenar los datos\n",
    "records = []\n",
    "\n",
    "#Se hace un ciclo for para leer todos los videos y sus datos\n",
    "for file in os.listdir(\"video_clips\"):\n",
    "    #Nombre\n",
    "    clip_name = os.path.splitext(file)[0]\n",
    "    #Extension\n",
    "    clip_file_extension = os.path.splitext(file)[1]\n",
    "    #Duracion\n",
    "    clip_duration = VideoFileClip(f\"video_clips/{file}\").duration\n",
    "    #Path\n",
    "    clip_location = os.path.join(\"video_clips\", file)\n",
    "    #Timestamp\n",
    "    now = datetime.datetime.now()\n",
    "    insert_timestamp = now.strftime(\"%Y-%m-%d %H:%M:%S\")\n",
    "   \n",
    "    records.append((clip_name, clip_file_extension, clip_duration, clip_location, insert_timestamp))\n",
    "\n",
    "#Ingresar los datos\n",
    "cur.executemany(\"\"\"\n",
    "    INSERT INTO video_data (clip_name, clip_file_extension, clip_duration, clip_location, insert_timestamp)\n",
    "    VALUES (?, ?, ?, ?, ?)\n",
    "\"\"\", records)\n",
    "\n",
    "#Commit y terminar conexión\n",
    "conn.commit()\n",
    "conn.close()"
   ]
  },
  {
   "cell_type": "code",
   "execution_count": 16,
   "id": "19fc8e1e",
   "metadata": {},
   "outputs": [],
   "source": [
    "import pandas as pd\n",
    "\n",
    "#Conectar al archivo de la base de datos\n",
    "conn = sqlite3.connect(\"video.db\")\n",
    "\n",
    "#Jalar los datos de la base de datos al data frame\n",
    "df = pd.read_sql_query(\"SELECT * FROM video_data\", conn)\n",
    "\n",
    "#Generar el reporte\n",
    "df.to_csv(\"report/baseDeDatos.csv\", index=False)\n",
    "\n",
    "#Se cierra la conexión\n",
    "conn.close()"
   ]
  },
  {
   "cell_type": "code",
   "execution_count": null,
   "id": "0592c9b3",
   "metadata": {},
   "outputs": [],
   "source": []
  }
 ],
 "metadata": {
  "kernelspec": {
   "display_name": "Python 3 (ipykernel)",
   "language": "python",
   "name": "python3"
  },
  "language_info": {
   "codemirror_mode": {
    "name": "ipython",
    "version": 3
   },
   "file_extension": ".py",
   "mimetype": "text/x-python",
   "name": "python",
   "nbconvert_exporter": "python",
   "pygments_lexer": "ipython3",
   "version": "3.11.3"
  }
 },
 "nbformat": 4,
 "nbformat_minor": 5
}
